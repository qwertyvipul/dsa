{
 "cells": [
  {
   "cell_type": "markdown",
   "id": "431ca0ea-acf8-4fca-ac5c-9105dd05966e",
   "metadata": {},
   "source": [
    "# Extended Euclidean Algorithm"
   ]
  },
  {
   "cell_type": "markdown",
   "id": "4da331e1-63bc-4ca7-879c-bf31a450bad1",
   "metadata": {},
   "source": [
    "$a \\cdot x + b \\cdot y = \\gcd(a, b)$"
   ]
  },
  {
   "cell_type": "code",
   "execution_count": 2,
   "id": "4e20e4d8-8d49-4347-b270-76c2383c7ba1",
   "metadata": {
    "tags": []
   },
   "outputs": [],
   "source": [
    "import math"
   ]
  },
  {
   "cell_type": "code",
   "execution_count": 18,
   "id": "d55d49c9-ffbf-48a0-8f45-9fd6406703a6",
   "metadata": {
    "tags": []
   },
   "outputs": [
    {
     "name": "stdout",
     "output_type": "stream",
     "text": [
      "[True, True]\tg: 13; x: 2; y: -1; a*x + b*y: 13\n",
      "[True, True]\tg: 14; x: 0; y: 1; a*x + b*y: 14\n",
      "[True, True]\tg: 7; x: -1; y: 1; a*x + b*y: 7\n"
     ]
    }
   ],
   "source": [
    "def gcdAndCoefficientsRecursive(a, b):\n",
    "    if b == 0: return a, 1, 0\n",
    "    \n",
    "    g, x, y = gcdAndCoefficientsRecursive(b, a % b)\n",
    "    return g, y, x - y * (a // b)\n",
    "\n",
    "def test(a, b):\n",
    "    g, x, y = gcdAndCoefficientsRecursive(a, b)\n",
    "    print(\"[{}, {}]\\tg: {}; x: {}; y: {}; a*x + b*y: {}\".format(\n",
    "        g == math.gcd(a, b), a*x + b*y == g, g, x, y, a*x + b*y\n",
    "    ))\n",
    "\n",
    "test(39, 65)\n",
    "test(42, 14)\n",
    "test(14, 21)"
   ]
  },
  {
   "cell_type": "code",
   "execution_count": 22,
   "id": "f587336a-aadf-436d-8bc2-51da02b604f0",
   "metadata": {
    "tags": []
   },
   "outputs": [
    {
     "name": "stdout",
     "output_type": "stream",
     "text": [
      "[True, True]\tg: 13; x: 2; y: -1; a*x + b*y: 13\n",
      "[True, True]\tg: 14; x: 0; y: 1; a*x + b*y: 14\n",
      "[True, True]\tg: 7; x: -1; y: 1; a*x + b*y: 7\n"
     ]
    }
   ],
   "source": [
    "def gcdAndCoefficientsIterative(a, b):\n",
    "    x = 1; y = 0\n",
    "    x1 = 0; y1 = 1\n",
    "    while b:\n",
    "        q = a // b\n",
    "        x, x1 = x1, x - q * x1\n",
    "        y, y1 = y1, y - q * y1\n",
    "        a, b = b, a - q * b\n",
    "    return a, x, y\n",
    "\n",
    "def test(a, b):\n",
    "    g, x, y = gcdAndCoefficientsIterative(a, b)\n",
    "    print(\"[{}, {}]\\tg: {}; x: {}; y: {}; a*x + b*y: {}\".format(\n",
    "        g == math.gcd(a, b), a*x + b*y == g, g, x, y, a*x + b*y\n",
    "    ))\n",
    "\n",
    "test(39, 65)\n",
    "test(42, 14)\n",
    "test(14, 21)"
   ]
  }
 ],
 "metadata": {
  "kernelspec": {
   "display_name": "Python 3 (ipykernel)",
   "language": "python",
   "name": "python3"
  },
  "language_info": {
   "codemirror_mode": {
    "name": "ipython",
    "version": 3
   },
   "file_extension": ".py",
   "mimetype": "text/x-python",
   "name": "python",
   "nbconvert_exporter": "python",
   "pygments_lexer": "ipython3",
   "version": "3.11.0"
  }
 },
 "nbformat": 4,
 "nbformat_minor": 5
}
