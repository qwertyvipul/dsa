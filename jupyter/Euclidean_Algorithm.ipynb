{
 "cells": [
  {
   "cell_type": "markdown",
   "id": "8d92a219-3535-4afe-8e44-a5f1f290facd",
   "metadata": {},
   "source": [
    "# Euclidean Algorithm"
   ]
  },
  {
   "cell_type": "markdown",
   "id": "2dbdf97f-8b13-4f14-99d5-0d7890a6e0fe",
   "metadata": {},
   "source": [
    "# GCD\n",
    "\n",
    "$gcd(a,b) = max\\{k > 0: (k | a) \\text{ and } (k | b)\\}$\n",
    "\n",
    "(here the \"|\" denotes divisibility, i.e. \"k\" | \"a\" means \"k\" divides \"a\")"
   ]
  },
  {
   "cell_type": "code",
   "execution_count": 1,
   "id": "be2dc5c9-73c6-4a91-aa39-df36322cde82",
   "metadata": {
    "tags": []
   },
   "outputs": [],
   "source": [
    "import math"
   ]
  },
  {
   "cell_type": "code",
   "execution_count": 8,
   "id": "3a413011-20a5-475b-936d-f76a98679d9b",
   "metadata": {
    "tags": []
   },
   "outputs": [
    {
     "name": "stdout",
     "output_type": "stream",
     "text": [
      "13 True\n",
      "14 True\n",
      "7 True\n"
     ]
    }
   ],
   "source": [
    "def EuclideanGCDRecursive(a, b):\n",
    "    return EuclideanGCDRecursive(b, a % b) if b else a\n",
    "\n",
    "def test(a, b):\n",
    "    gcd = EuclideanGCDRecursive(a, b)\n",
    "    print(gcd, gcd == math.gcd(a, b))\n",
    "\n",
    "test(39, 65)\n",
    "test(42, 14)\n",
    "test(14, 21)"
   ]
  },
  {
   "cell_type": "code",
   "execution_count": 18,
   "id": "90db4b48-46b8-444f-94e4-99b06982768e",
   "metadata": {
    "tags": []
   },
   "outputs": [
    {
     "name": "stdout",
     "output_type": "stream",
     "text": [
      "13 True\n",
      "14 True\n",
      "7 True\n"
     ]
    }
   ],
   "source": [
    "def EuclideanGCDIterative(a, b):\n",
    "    while b:\n",
    "        a %= b # After this a is smaller than b \n",
    "        a, b = b, a # Swap\n",
    "    return a\n",
    "\n",
    "def test(a, b):\n",
    "    gcd = EuclideanGCDIterative(a, b)\n",
    "    print(gcd, gcd == math.gcd(a, b))\n",
    "\n",
    "test(39, 65)\n",
    "test(42, 14)\n",
    "test(14, 21)"
   ]
  },
  {
   "cell_type": "markdown",
   "id": "91cf4627-635f-4b92-88e1-c766662a60be",
   "metadata": {},
   "source": [
    "## LCM\n",
    "\n",
    "$\\text{lcm}(a, b) = \\frac{a \\cdot b}{\\gcd(a, b)}$"
   ]
  },
  {
   "cell_type": "code",
   "execution_count": 17,
   "id": "fda157bf-9435-48f1-9abd-301aeddba83a",
   "metadata": {
    "tags": []
   },
   "outputs": [
    {
     "name": "stdout",
     "output_type": "stream",
     "text": [
      "195.0 True\n",
      "42.0 True\n",
      "50.0 True\n"
     ]
    }
   ],
   "source": [
    "def lcm(a, b):\n",
    "    return a * b / math.gcd(a, b)\n",
    "\n",
    "def test(a, b):\n",
    "    val = lcm(a, b)\n",
    "    print(val, val == math.lcm(a, b))\n",
    "\n",
    "test(39, 65)\n",
    "test(42, 14)\n",
    "test(10, 25)"
   ]
  },
  {
   "cell_type": "markdown",
   "id": "e6d75abd-5e67-4e62-bcbe-5c36769d125c",
   "metadata": {},
   "source": [
    "## Binary GCD\n",
    "\n",
    "* If both numbers are even, then we can factor out a two of both and compute the GCD of the remaining numbers: $\\gcd(2a, 2b) = 2 \\gcd(a, b)$.\n",
    "* If one of the numbers is even and the other one is odd, then we can remove the factor 2 from the even one: $\\gcd(2a, b) = \\gcd(a, b)$  if $b$  is odd.\n",
    "* If both numbers are odd, then subtracting one number of the other one will not change the GCD: $\\gcd(a, b) = \\gcd(b, a-b)$ "
   ]
  },
  {
   "cell_type": "code",
   "execution_count": 21,
   "id": "d81ce619-fadc-445a-9e98-8a554f8e0685",
   "metadata": {
    "tags": []
   },
   "outputs": [
    {
     "name": "stdout",
     "output_type": "stream",
     "text": [
      "13 True\n",
      "14 True\n",
      "7 True\n"
     ]
    }
   ],
   "source": [
    "# Count trailing zeroes in binary\n",
    "def ctz(a):\n",
    "    return max((a & -a).bit_length() - 1, 0)\n",
    "\n",
    "def binaryGCD(a, b):\n",
    "    if (not a or not b):\n",
    "        return a | b\n",
    "    \n",
    "    shift = ctz(a | b) # Factor out the multiple of two\n",
    "    \n",
    "    while b:\n",
    "        b >>= ctz(b) # Factor out the multiple of two\n",
    "        if a > b: a, b = b, a\n",
    "        b -= a\n",
    "    \n",
    "    return a << shift\n",
    "\n",
    "def test(a, b):\n",
    "    gcd = binaryGCD(a, b)\n",
    "    print(gcd, gcd == math.gcd(a, b))\n",
    "\n",
    "test(39, 65)\n",
    "test(42, 14)\n",
    "test(14, 21)"
   ]
  },
  {
   "cell_type": "markdown",
   "id": "2106399d-70e5-4fe9-9360-2dbdab6e19a5",
   "metadata": {},
   "source": [
    "## References\n",
    "\n",
    "1. https://cp-algorithms.com/algebra/euclid-algorithm.html"
   ]
  }
 ],
 "metadata": {
  "kernelspec": {
   "display_name": "Python 3 (ipykernel)",
   "language": "python",
   "name": "python3"
  },
  "language_info": {
   "codemirror_mode": {
    "name": "ipython",
    "version": 3
   },
   "file_extension": ".py",
   "mimetype": "text/x-python",
   "name": "python",
   "nbconvert_exporter": "python",
   "pygments_lexer": "ipython3",
   "version": "3.11.0"
  }
 },
 "nbformat": 4,
 "nbformat_minor": 5
}
