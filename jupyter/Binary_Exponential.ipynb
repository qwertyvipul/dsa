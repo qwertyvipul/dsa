{
 "cells": [
  {
   "cell_type": "markdown",
   "id": "0074b1c5-8806-4d16-adc4-71bfdfbeeedc",
   "metadata": {
    "tags": []
   },
   "source": [
    "# Binary Exponential"
   ]
  },
  {
   "cell_type": "code",
   "execution_count": 4,
   "id": "3bf2ba41-3849-4275-9f98-08f4cce5d1ae",
   "metadata": {
    "tags": []
   },
   "outputs": [
    {
     "name": "stdout",
     "output_type": "stream",
     "text": [
      "1000 True\n",
      "512 True\n"
     ]
    }
   ],
   "source": [
    "def binpowRecursive(a, b):\n",
    "    if b == 0: return 1\n",
    "\n",
    "    res = binpow(a, b // 2)\n",
    "    \n",
    "    if b & 1: return res * res * a\n",
    "\n",
    "    return res * res\n",
    "\n",
    "# Test\n",
    "print(binpowRecursive(10, 3), binpow(10, 3) == 10 ** 3)\n",
    "print(binpowRecursive(8, 3), binpow(8, 3) == 8 ** 3)"
   ]
  },
  {
   "cell_type": "code",
   "execution_count": 5,
   "id": "be35b48e-63c3-4f8f-aa3f-36ece6f8daa8",
   "metadata": {
    "tags": []
   },
   "outputs": [
    {
     "name": "stdout",
     "output_type": "stream",
     "text": [
      "1000 True\n",
      "512 True\n"
     ]
    }
   ],
   "source": [
    "def binpowIterative(a, b):\n",
    "    res = 1\n",
    "    while b > 0:\n",
    "        if b & 1: res = res * a\n",
    "        a = a * a\n",
    "        b >>= 1\n",
    "    return res\n",
    "\n",
    "# Test\n",
    "print(binpowIterative(10, 3), binpow(10, 3) == 10 ** 3)\n",
    "print(binpowIterative(8, 3), binpow(8, 3) == 8 ** 3)"
   ]
  },
  {
   "cell_type": "markdown",
   "id": "433c1e21-ff2a-4673-872f-a56ece875427",
   "metadata": {},
   "source": [
    "## References\n",
    "\n",
    "1. https://cp-algorithms.com/algebra/binary-exp.html"
   ]
  }
 ],
 "metadata": {
  "kernelspec": {
   "display_name": "Python 3 (ipykernel)",
   "language": "python",
   "name": "python3"
  },
  "language_info": {
   "codemirror_mode": {
    "name": "ipython",
    "version": 3
   },
   "file_extension": ".py",
   "mimetype": "text/x-python",
   "name": "python",
   "nbconvert_exporter": "python",
   "pygments_lexer": "ipython3",
   "version": "3.11.0"
  }
 },
 "nbformat": 4,
 "nbformat_minor": 5
}
